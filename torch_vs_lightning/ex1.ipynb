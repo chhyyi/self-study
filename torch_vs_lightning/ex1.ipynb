{
 "cells": [
  {
   "attachments": {},
   "cell_type": "markdown",
   "metadata": {},
   "source": [
    "# PyTorch vs Lightning\n",
    "On [official PyTorch Lightning website](https://lightning.ai), there are mainly 2 introductory materials now(June 28, 2023, v2.0.4)  \n",
    "- [colab notebook - hell pytorch lightning](https://colab.research.google.com/drive/1AZ5SM6zX13h4rOKxnIAYrg3N40fJFFQo?usp=sharing#scrollTo=HWB7-7yx-gxT)  \n",
    "- [Document - Lightning in 15 minutes](https://lightning.ai/docs/pytorch/stable/starter/introduction.html)  \n",
    "As I'm not that familiar with both PyTorch and Lightning, I'm going to convert some model between them.  \n",
    "\n",
    "\n",
    "\n",
    "# Exercise 1.\n"
   ]
  },
  {
   "attachments": {},
   "cell_type": "markdown",
   "metadata": {},
   "source": [
    "## 1. Just reproduce outputs.\n",
    "First, let's convert an autoencoder model on materials above(Both materials uses same model as an example). It encodes images from MNIST dataset as a 3-dimensional latent vector.\n",
    "Let's just reproduce results."
   ]
  },
  {
   "cell_type": "code",
   "execution_count": 1,
   "metadata": {},
   "outputs": [
    {
     "name": "stderr",
     "output_type": "stream",
     "text": [
      "GPU available: True (cuda), used: True\n",
      "TPU available: False, using: 0 TPU cores\n",
      "IPU available: False, using: 0 IPUs\n",
      "HPU available: False, using: 0 HPUs\n",
      "LOCAL_RANK: 0 - CUDA_VISIBLE_DEVICES: [0]\n",
      "\n",
      "  | Name    | Type       | Params\n",
      "---------------------------------------\n",
      "0 | encoder | Sequential | 100 K \n",
      "1 | decoder | Sequential | 101 K \n",
      "---------------------------------------\n",
      "202 K     Trainable params\n",
      "0         Non-trainable params\n",
      "202 K     Total params\n",
      "0.810     Total estimated model params size (MB)\n",
      "c:\\Users\\hms_l\\.conda\\envs\\rave2_py39\\lib\\site-packages\\lightning\\pytorch\\trainer\\connectors\\data_connector.py:432: PossibleUserWarning: The dataloader, train_dataloader, does not have many workers which may be a bottleneck. Consider increasing the value of the `num_workers` argument` (try 12 which is the number of cpus on this machine) in the `DataLoader` init to improve performance.\n",
      "  rank_zero_warn(\n"
     ]
    },
    {
     "data": {
      "application/vnd.jupyter.widget-view+json": {
       "model_id": "d9bfb304b865446fa3dc039ee5deb6b4",
       "version_major": 2,
       "version_minor": 0
      },
      "text/plain": [
       "Training: 0it [00:00, ?it/s]"
      ]
     },
     "metadata": {},
     "output_type": "display_data"
    },
    {
     "name": "stderr",
     "output_type": "stream",
     "text": [
      "`Trainer.fit` stopped: `max_steps=5000` reached.\n"
     ]
    }
   ],
   "source": [
    "import os, torch, torch.nn as nn, torch.utils.data as data, torchvision as tv\n",
    "import lightning as L\n",
    "\n",
    "encoder = nn.Sequential(nn.Linear(28 * 28, 128), nn.ReLU(), nn.Linear(128, 3))\n",
    "decoder = nn.Sequential(nn.Linear(3, 128), nn.ReLU(), nn.Linear(128, 28 * 28))\n",
    "\n",
    "class LitAutoEncoder(L.LightningModule):\n",
    "    def __init__(self, encoder, decoder):\n",
    "        super().__init__()\n",
    "        self.encoder, self.decoder = encoder, decoder\n",
    "\n",
    "    def training_step(self, batch, batch_idx):\n",
    "        x, y = batch\n",
    "        x = x.view(x.size(0), -1)\n",
    "        z = self.encoder(x)\n",
    "        x_hat = self.decoder(z)\n",
    "        loss = nn.functional.mse_loss(x_hat, x)\n",
    "        self.log(\"train_loss\", loss)\n",
    "        return loss\n",
    "\n",
    "    def configure_optimizers(self):\n",
    "        return torch.optim.Adam(self.parameters(), lr=1e-3)\n",
    "\n",
    "dataset = tv.datasets.MNIST(\".\", download=True, transform=tv.transforms.ToTensor())\n",
    "\n",
    "trainer = L.Trainer(max_steps=5000)\n",
    "trainer.fit(LitAutoEncoder(encoder, decoder), data.DataLoader(dataset, batch_size=32))"
   ]
  },
  {
   "cell_type": "code",
   "execution_count": 2,
   "metadata": {},
   "outputs": [],
   "source": [
    "%load_ext tensorboard"
   ]
  },
  {
   "cell_type": "code",
   "execution_count": null,
   "metadata": {},
   "outputs": [],
   "source": [
    "%tensorboard --logdir lightning_logs"
   ]
  },
  {
   "cell_type": "code",
   "execution_count": 22,
   "metadata": {},
   "outputs": [
    {
     "name": "stdout",
     "output_type": "stream",
     "text": [
      "⚡⚡⚡⚡⚡⚡⚡⚡⚡⚡⚡⚡⚡⚡⚡⚡⚡⚡⚡⚡ \n",
      "Predictions (4 image embeddings):\n",
      " tensor([[ 0.2866, -0.5402,  0.0124],\n",
      "        [ 0.5535, -0.6263,  0.2129],\n",
      "        [ 0.7273, -0.9737,  0.1227],\n",
      "        [ 0.3660, -0.6094,  0.0933]], device='cuda:0',\n",
      "       grad_fn=<AddmmBackward0>) \n",
      " ⚡⚡⚡⚡⚡⚡⚡⚡⚡⚡⚡⚡⚡⚡⚡⚡⚡⚡⚡⚡\n"
     ]
    }
   ],
   "source": [
    "# load checkpoint\n",
    "checkpoint = \"./lightning_logs/version_1/checkpoints/epoch=53-step=50000.ckpt\"\n",
    "autoencoder = LitAutoEncoder.load_from_checkpoint(checkpoint, encoder=encoder, decoder=decoder)\n",
    "\n",
    "# choose your trained nn.Module\n",
    "encoder = autoencoder.encoder\n",
    "encoder.eval()\n",
    "\n",
    "# embed 4 fake images!\n",
    "fake_image_batch = torch.Tensor(4, 28 * 28).cuda() # Original code without .cuda() raised an error - cuz there are two devices.\n",
    "embeddings = encoder(fake_image_batch)\n",
    "print(\"⚡\" * 20, \"\\nPredictions (4 image embeddings):\\n\", embeddings, \"\\n\", \"⚡\" * 20)"
   ]
  },
  {
   "attachments": {},
   "cell_type": "markdown",
   "metadata": {},
   "source": [
    "There were some problems so I had to add cuda() method on\n",
    "```python\n",
    "fake_image_batch = torch.Tensor(4, 28 * 28).cuda()\n",
    "```  \n",
    "\n",
    "## 2. Visualization\n",
    "This autoencoder can work as an image generator. Let's check out..."
   ]
  },
  {
   "cell_type": "code",
   "execution_count": 23,
   "metadata": {},
   "outputs": [
    {
     "data": {
      "image/png": "[encoded data removed]",
      "text/plain": [
       "<Figure size 640x480 with 4 Axes>"
      ]
     },
     "metadata": {},
     "output_type": "display_data"
    }
   ],
   "source": [
    "# regenerate fake images!\n",
    "fake_image_batch = (torch.rand(4, 28*28)).cuda() # Original code without .cuda() raised an error - cuz there are two devices.\n",
    "embeddings = encoder(fake_image_batch)\n",
    "\n",
    "#import pyplot to plot\n",
    "import matplotlib.pyplot as plt\n",
    "\n",
    "# initialize decoder\n",
    "decoder = autoencoder.decoder\n",
    "decoder.eval()\n",
    "\n",
    "#generate images, plot\n",
    "gen_imgs = decoder(embeddings).cpu().detach().view(4,28,28).numpy()\n",
    "plt.figure()\n",
    "for i, subplot_index in enumerate([221, 222, 223, 224]):\n",
    "    plt.subplot(subplot_index)\n",
    "    plt.imshow(gen_imgs[i])"
   ]
  },
  {
   "attachments": {},
   "cell_type": "markdown",
   "metadata": {},
   "source": [
    "Let's plot comparison between input image and restored image. (an autoencoder model usually exhibits.)"
   ]
  },
  {
   "cell_type": "code",
   "execution_count": 28,
   "metadata": {},
   "outputs": [
    {
     "name": "stdout",
     "output_type": "stream",
     "text": [
      "type(X):<class 'torch.Tensor'>, type(y):<class 'torch.Tensor'>\n",
      "size of X:torch.Size([4, 1, 28, 28]), y:torch.Size([4])\n",
      "tensor([5, 9, 1, 4])\n"
     ]
    },
    {
     "data": {
      "image/png": "[encoded data removed]",
      "text/plain": [
       "<Figure size 640x480 with 4 Axes>"
      ]
     },
     "metadata": {},
     "output_type": "display_data"
    }
   ],
   "source": [
    "\n",
    "\n",
    "dataloader = data.DataLoader(dataset, batch_size=4, shuffle=True)\n",
    "'''\n",
    "for X, y in dataloader:\n",
    "    print(f\"type(X):{type(X)}, type(y):{type(y)}\")\n",
    "    print(f\"size of X:{X.size()}, y:{y.size()}\")\n",
    "    print(y)\n",
    "    X = X.view(4, 28, 28)\n",
    "    break\n",
    "'''\n",
    "_, (X, y) = next(enumerate(dataloader)) # Dataloader seems iterable but next(Dataloader) does not work! ref: https://stackoverflow.com/questions/63487775\n",
    "print(f\"type(X):{type(X)}, type(y):{type(y)}\")\n",
    "print(f\"size of X:{X.size()}, y:{y.size()}\")\n",
    "print(y)\n",
    "X = X.view(4, 28, 28)\n",
    "\n",
    "\n",
    "    #plot input images\n",
    "plt.figure()\n",
    "for i, subplot_index in enumerate([221, 222, 223, 224]):\n",
    "    plt.subplot(subplot_index)\n",
    "    plt.imshow(X[i])\n",
    "    "
   ]
  },
  {
   "cell_type": "code",
   "execution_count": 29,
   "metadata": {},
   "outputs": [
    {
     "data": {
      "image/png": "[encoded data removed]",
      "text/plain": [
       "<Figure size 640x480 with 4 Axes>"
      ]
     },
     "metadata": {},
     "output_type": "display_data"
    }
   ],
   "source": [
    "embeddings = encoder(X.view(4, 28*28).cuda())\n",
    "gen_imgs = decoder(embeddings).cpu().detach().view(4,28,28).numpy()\n",
    "\n",
    "#plot restored images\n",
    "plt.figure()\n",
    "for i, subplot_index in enumerate([221, 222, 223, 224]):\n",
    "    plt.subplot(subplot_index)\n",
    "    plt.imshow(gen_imgs[i])"
   ]
  },
  {
   "attachments": {},
   "cell_type": "markdown",
   "metadata": {},
   "source": [
    "### Discussion/Question\n",
    "1. Batch Size : Batch size was 64 or 32 on dataloader on trainer.fit(). I tried 4, 8 on inference step. Is it okay to change batch size between training and inference stage on raw PyTorch or TensorFlow?\n",
    "2. Subdirectory generated : So many directories & files generated...  'MNIST\\raw' is the downloaded dataset from PyTorch dataset. 'lightning_logs' have three files. checkpoint(.ckpt), 'events.out.tfevents....', 'hparams.yaml'. What's the role of these files?\n",
    "3. Use of tensorboard : I'm using jupyter notebook on VS Code. Unlike google colab, I can't see the tensorboard page on cell output. Instead, it toggles 'launch tensorboard session'. What's happening?"
   ]
  },
  {
   "attachments": {},
   "cell_type": "markdown",
   "metadata": {},
   "source": [
    "## 3. Convert to Raw PyTorch\n",
    "I've reproduced [pytorch quickstart](https://pytorch.org/tutorials/beginner/basics/quickstart_tutorial.html) on [this repository](../torch_quickstart/quickstart.ipynb). Let's Convert the model above to the model only use raw pytorch. It'll will be just some modification of the pytorch quickstart.  \n",
    "Python code below should be independently runnable."
   ]
  },
  {
   "attachments": {},
   "cell_type": "markdown",
   "metadata": {},
   "source": [
    "### 3.1. Import modules, Load dataset"
   ]
  },
  {
   "cell_type": "code",
   "execution_count": 1,
   "metadata": {},
   "outputs": [],
   "source": [
    "import torch \n",
    "from torch import nn\n",
    "from torch.utils.data import DataLoader\n",
    "from torchvision import datasets\n",
    "from torchvision.transforms import ToTensor"
   ]
  },
  {
   "cell_type": "code",
   "execution_count": 2,
   "metadata": {},
   "outputs": [],
   "source": [
    "training_data = datasets.MNIST(root=\".\",train=True, download=True, transform=ToTensor())\n",
    "test_data = datasets.MNIST(root=\".\",train=False, download=True, transform=ToTensor())"
   ]
  },
  {
   "cell_type": "code",
   "execution_count": 3,
   "metadata": {},
   "outputs": [
    {
     "name": "stdout",
     "output_type": "stream",
     "text": [
      "size of X: torch.Size([64, 1, 28, 28])\n",
      "shape of X: torch.Size([64, 1, 28, 28])\n"
     ]
    }
   ],
   "source": [
    "batch_size = 64\n",
    "\n",
    "train_dataloader = DataLoader(training_data, batch_size = batch_size)\n",
    "test_dataloader = DataLoader(test_data, batch_size = batch_size)\n",
    "\n",
    "for X, y in test_dataloader:\n",
    "    print(f\"size of X: {X.size()}\")\n",
    "    print(f\"shape of X: {X.shape}\")\n",
    "    break"
   ]
  },
  {
   "attachments": {},
   "cell_type": "markdown",
   "metadata": {},
   "source": [
    "On PyTorch Lightning, just a dataset was passed to the trainer. There were no parameter about train-test data split.   \n",
    "Question or Discussion   \n",
    "- Does lightning model use 'test data' on training? default value of train argument is True.  \n",
    "- Difference of Tensor.size() and X.shape?\n",
    "\n",
    "### 3.2.Define Model\n",
    "Encoder and Decoder can be included in the autoencoder but let's declare separatly.  "
   ]
  },
  {
   "cell_type": "code",
   "execution_count": 25,
   "metadata": {},
   "outputs": [
    {
     "name": "stdout",
     "output_type": "stream",
     "text": [
      "using cuda\n",
      "AutoEncoder_old(\n",
      "  (encoder): Encoder(\n",
      "    (flatten): Flatten(start_dim=1, end_dim=-1)\n",
      "    (linear_relu_stack): Sequential(\n",
      "      (0): Linear(in_features=784, out_features=128, bias=True)\n",
      "      (1): ReLU()\n",
      "      (2): Linear(in_features=128, out_features=3, bias=True)\n",
      "    )\n",
      "  )\n",
      "  (decoder): Decoder(\n",
      "    (linear_relu_stack): Sequential(\n",
      "      (0): Linear(in_features=3, out_features=128, bias=True)\n",
      "      (1): ReLU()\n",
      "      (2): Linear(in_features=128, out_features=784, bias=True)\n",
      "    )\n",
      "    (unflatten): Unflatten(dim=1, unflattened_size=(1, 28, 28))\n",
      "  )\n",
      ")\n"
     ]
    }
   ],
   "source": [
    "#device: I have only cpu and gpu. skip mps or tpu\n",
    "device = (\"cuda\" if torch.cuda.is_available()\n",
    "          else \"cpu\")\n",
    "print(f\"using {device}\")\n",
    "\n",
    "#model\n",
    "\n",
    "class Encoder(nn.Module):\n",
    "    def __init__(self):\n",
    "        super().__init__()\n",
    "        self.flatten = nn.Flatten()\n",
    "        self.linear_relu_stack = nn.Sequential(\n",
    "            nn.Linear(28*28, 128),\n",
    "            nn.ReLU(),\n",
    "            nn.Linear(128, 3)\n",
    "        )\n",
    "    \n",
    "    def forward(self, x):\n",
    "        x = self.flatten(x)\n",
    "        embeddings = self.linear_relu_stack(x)\n",
    "        return embeddings\n",
    "\n",
    "class Decoder(nn.Module):\n",
    "    def __init__(self):\n",
    "        super().__init__()\n",
    "        self.linear_relu_stack = nn.Sequential(\n",
    "            nn.Linear(3, 128),\n",
    "            nn.ReLU(),\n",
    "            nn.Linear(128, 28*28)\n",
    "        )\n",
    "        self.unflatten = nn.Unflatten(1, (1, 28, 28))\n",
    "\n",
    "    \n",
    "    def forward(self, embeddings):\n",
    "        output = self.linear_relu_stack(embeddings)\n",
    "        output = self.unflatten(output)\n",
    "        #output.view(-1, 1, 28, 28) #It cannot be (batch_size, 1, 28, 28) cuz dataloader gives \n",
    "        return output\n",
    "\n",
    "class AutoEncoder_old(nn.Module):\n",
    "    def __init__(self):\n",
    "        super().__init__()\n",
    "        self.encoder = Encoder()\n",
    "        self.decoder = Decoder()\n",
    "    \n",
    "    def forward(self, x):\n",
    "        embeddings = self.encoder(x)\n",
    "        output = self.decoder(embeddings)\n",
    "        return output\n",
    "        \n",
    "model = AutoEncoder_old().to(device)\n",
    "print(model)"
   ]
  },
  {
   "attachments": {},
   "cell_type": "markdown",
   "metadata": {},
   "source": [
    "Alternatively I made this one - It's much shorter than above.\n",
    "```python\n",
    "class AutoEncoder(nn.Module):\n",
    "    def __init__(self):\n",
    "        super().__init__()\n",
    "        self.flatten = nn.Flatten()\n",
    "        self.autoencoder = nn.Sequential(\n",
    "            nn.Linear(28*28, 128),\n",
    "            nn.ReLU(),\n",
    "            nn.Linear(128,3),\n",
    "            nn.Linear(3, 128),\n",
    "            nn.ReLU(),\n",
    "            nn.Linear(128, 28*28)\n",
    "        )\n",
    "        self.unflatten = nn.Unflatten(1, (1, 28, 28))\n",
    "    \n",
    "    def forward(self, x):\n",
    "        x = self.flatten(x)\n",
    "        out = self.autoencoder(x)\n",
    "        out = self.unflatten(out)\n",
    "        return out\n",
    "```\n",
    "  \n",
    "By the way, I could have use encoder and decoder of Lightning tutorial like this-\n",
    "```python\n",
    "encoder = nn.Sequential(nn.Linear(28, 28, 128), nn.ReLU(), nn.Linear(128,3))\n",
    "...\n",
    "class AutoEncoder(nn.Module):\n",
    "    def __init__(self):\n",
    "        ...\n",
    "        self encoder = encoder\n",
    "```\n",
    "It means that nn.Sequential work as a nn.Module class with adequate forward function.\n",
    "\n",
    "### 3.3. Train"
   ]
  },
  {
   "cell_type": "code",
   "execution_count": 26,
   "metadata": {},
   "outputs": [],
   "source": [
    "loss_fn = nn.MSELoss() #on lightning, just nn.functional.mse_loss() was used. It seems like nn.MSELoss() returns nn.functional.mse_loss\n",
    "optimizer = torch.optim.Adam(model.parameters(), lr = 1e-3)"
   ]
  },
  {
   "cell_type": "code",
   "execution_count": 27,
   "metadata": {},
   "outputs": [],
   "source": [
    "def train(dataloader, model, loss_fn, optimizer):\n",
    "    size = len(dataloader.dataset)\n",
    "    model.train() #what is the role of this method?\n",
    "    for batch, (X, y) in enumerate(dataloader):\n",
    "        X, y = X.to(device), y.to(device)\n",
    "\n",
    "        pred = model(X)\n",
    "        loss = loss_fn(pred, X) #this is autoencoder. y is not used.\n",
    "\n",
    "        optimizer.zero_grad()\n",
    "        loss.backward()\n",
    "        optimizer.step()\n",
    "\n",
    "        if batch % 500 == 0:\n",
    "            loss, current = loss.item(), (batch + 1) * len(X)\n",
    "            print(f\"loss: {loss:>7f} [{current:>5d}/{size:>5d}]\")"
   ]
  },
  {
   "cell_type": "code",
   "execution_count": 28,
   "metadata": {},
   "outputs": [
    {
     "name": "stdout",
     "output_type": "stream",
     "text": [
      "Help on method train in module torch.nn.modules.module:\n",
      "\n",
      "train(mode: bool = True) -> ~T method of __main__.AutoEncoder_old instance\n",
      "    Sets the module in training mode.\n",
      "    \n",
      "    This has any effect only on certain modules. See documentations of\n",
      "    particular modules for details of their behaviors in training/evaluation\n",
      "    mode, if they are affected, e.g. :class:`Dropout`, :class:`BatchNorm`,\n",
      "    etc.\n",
      "    \n",
      "    Args:\n",
      "        mode (bool): whether to set training mode (``True``) or evaluation\n",
      "                     mode (``False``). Default: ``True``.\n",
      "    \n",
      "    Returns:\n",
      "        Module: self\n",
      "\n"
     ]
    }
   ],
   "source": [
    "help(model.train)"
   ]
  },
  {
   "cell_type": "code",
   "execution_count": 29,
   "metadata": {},
   "outputs": [],
   "source": [
    "def test(dataloader, model, loss_fn):\n",
    "    size = len(dataloader.dataset)\n",
    "    num_batches = len(dataloader)\n",
    "    model.eval()\n",
    "    test_loss = 0\n",
    "    with torch.no_grad():\n",
    "        for X, y in dataloader:\n",
    "            X, y = X.to(device), y.to(device)\n",
    "            pred = model(X)\n",
    "            test_loss += loss_fn(pred, X).item()\n",
    "    test_loss /= num_batches\n",
    "    print(f\"Test Error: \\n Avg loss: {test_loss:>8f} \\n\")"
   ]
  },
  {
   "cell_type": "code",
   "execution_count": 30,
   "metadata": {},
   "outputs": [
    {
     "name": "stdout",
     "output_type": "stream",
     "text": [
      "Epoch 1\n",
      "-------------------------------\n",
      "loss: 0.129811 [   64/60000]\n",
      "loss: 0.045749 [32064/60000]\n",
      "Test Error: \n",
      " Avg loss: 0.042634 \n",
      "\n",
      "Epoch 2\n",
      "-------------------------------\n",
      "loss: 0.039482 [   64/60000]\n",
      "loss: 0.043073 [32064/60000]\n",
      "Test Error: \n",
      " Avg loss: 0.040995 \n",
      "\n",
      "Epoch 3\n",
      "-------------------------------\n",
      "loss: 0.037594 [   64/60000]\n",
      "loss: 0.041963 [32064/60000]\n",
      "Test Error: \n",
      " Avg loss: 0.040097 \n",
      "\n",
      "Epoch 4\n",
      "-------------------------------\n",
      "loss: 0.036255 [   64/60000]\n",
      "loss: 0.041333 [32064/60000]\n",
      "Test Error: \n",
      " Avg loss: 0.039441 \n",
      "\n",
      "Epoch 5\n",
      "-------------------------------\n",
      "loss: 0.035307 [   64/60000]\n",
      "loss: 0.040768 [32064/60000]\n",
      "Test Error: \n",
      " Avg loss: 0.038931 \n",
      "\n",
      "Epoch 6\n",
      "-------------------------------\n",
      "loss: 0.034577 [   64/60000]\n",
      "loss: 0.040147 [32064/60000]\n",
      "Test Error: \n",
      " Avg loss: 0.038593 \n",
      "\n",
      "Epoch 7\n",
      "-------------------------------\n",
      "loss: 0.034254 [   64/60000]\n",
      "loss: 0.039805 [32064/60000]\n",
      "Test Error: \n",
      " Avg loss: 0.038325 \n",
      "\n",
      "Epoch 8\n",
      "-------------------------------\n",
      "loss: 0.033826 [   64/60000]\n",
      "loss: 0.039511 [32064/60000]\n",
      "Test Error: \n",
      " Avg loss: 0.038078 \n",
      "\n",
      "Epoch 9\n",
      "-------------------------------\n",
      "loss: 0.033553 [   64/60000]\n",
      "loss: 0.039351 [32064/60000]\n",
      "Test Error: \n",
      " Avg loss: 0.037839 \n",
      "\n",
      "Epoch 10\n",
      "-------------------------------\n",
      "loss: 0.033309 [   64/60000]\n",
      "loss: 0.039205 [32064/60000]\n",
      "Test Error: \n",
      " Avg loss: 0.037623 \n",
      "\n",
      "Epoch 11\n",
      "-------------------------------\n",
      "loss: 0.033049 [   64/60000]\n",
      "loss: 0.039074 [32064/60000]\n",
      "Test Error: \n",
      " Avg loss: 0.037595 \n",
      "\n",
      "Epoch 12\n",
      "-------------------------------\n",
      "loss: 0.032930 [   64/60000]\n",
      "loss: 0.038970 [32064/60000]\n",
      "Test Error: \n",
      " Avg loss: 0.037561 \n",
      "\n",
      "Epoch 13\n",
      "-------------------------------\n",
      "loss: 0.032877 [   64/60000]\n",
      "loss: 0.038938 [32064/60000]\n",
      "Test Error: \n",
      " Avg loss: 0.037450 \n",
      "\n",
      "Epoch 14\n",
      "-------------------------------\n",
      "loss: 0.032689 [   64/60000]\n",
      "loss: 0.038853 [32064/60000]\n",
      "Test Error: \n",
      " Avg loss: 0.037392 \n",
      "\n",
      "Epoch 15\n",
      "-------------------------------\n",
      "loss: 0.032640 [   64/60000]\n",
      "loss: 0.038852 [32064/60000]\n",
      "Test Error: \n",
      " Avg loss: 0.037343 \n",
      "\n",
      "Epoch 16\n",
      "-------------------------------\n",
      "loss: 0.032518 [   64/60000]\n",
      "loss: 0.038746 [32064/60000]\n",
      "Test Error: \n",
      " Avg loss: 0.037221 \n",
      "\n",
      "Epoch 17\n",
      "-------------------------------\n",
      "loss: 0.032337 [   64/60000]\n",
      "loss: 0.038683 [32064/60000]\n",
      "Test Error: \n",
      " Avg loss: 0.037036 \n",
      "\n",
      "Epoch 18\n",
      "-------------------------------\n",
      "loss: 0.032312 [   64/60000]\n",
      "loss: 0.038555 [32064/60000]\n",
      "Test Error: \n",
      " Avg loss: 0.037032 \n",
      "\n",
      "Epoch 19\n",
      "-------------------------------\n",
      "loss: 0.032268 [   64/60000]\n",
      "loss: 0.038480 [32064/60000]\n",
      "Test Error: \n",
      " Avg loss: 0.036960 \n",
      "\n",
      "Epoch 20\n",
      "-------------------------------\n",
      "loss: 0.032195 [   64/60000]\n",
      "loss: 0.038494 [32064/60000]\n",
      "Test Error: \n",
      " Avg loss: 0.036868 \n",
      "\n",
      "Epoch 21\n",
      "-------------------------------\n",
      "loss: 0.032119 [   64/60000]\n",
      "loss: 0.038450 [32064/60000]\n",
      "Test Error: \n",
      " Avg loss: 0.036869 \n",
      "\n",
      "Epoch 22\n",
      "-------------------------------\n",
      "loss: 0.032046 [   64/60000]\n",
      "loss: 0.038439 [32064/60000]\n",
      "Test Error: \n",
      " Avg loss: 0.036885 \n",
      "\n",
      "Epoch 23\n",
      "-------------------------------\n",
      "loss: 0.032034 [   64/60000]\n",
      "loss: 0.038336 [32064/60000]\n",
      "Test Error: \n",
      " Avg loss: 0.036808 \n",
      "\n",
      "Epoch 24\n",
      "-------------------------------\n",
      "loss: 0.032036 [   64/60000]\n",
      "loss: 0.038207 [32064/60000]\n",
      "Test Error: \n",
      " Avg loss: 0.036772 \n",
      "\n",
      "Epoch 25\n",
      "-------------------------------\n",
      "loss: 0.031956 [   64/60000]\n",
      "loss: 0.038152 [32064/60000]\n",
      "Test Error: \n",
      " Avg loss: 0.036785 \n",
      "\n",
      "Epoch 26\n",
      "-------------------------------\n",
      "loss: 0.031921 [   64/60000]\n",
      "loss: 0.038066 [32064/60000]\n",
      "Test Error: \n",
      " Avg loss: 0.036914 \n",
      "\n",
      "Epoch 27\n",
      "-------------------------------\n",
      "loss: 0.032051 [   64/60000]\n",
      "loss: 0.037993 [32064/60000]\n",
      "Test Error: \n",
      " Avg loss: 0.036869 \n",
      "\n",
      "Epoch 28\n",
      "-------------------------------\n",
      "loss: 0.031977 [   64/60000]\n",
      "loss: 0.037954 [32064/60000]\n",
      "Test Error: \n",
      " Avg loss: 0.036783 \n",
      "\n",
      "Epoch 29\n",
      "-------------------------------\n",
      "loss: 0.031922 [   64/60000]\n",
      "loss: 0.037893 [32064/60000]\n",
      "Test Error: \n",
      " Avg loss: 0.036906 \n",
      "\n",
      "Epoch 30\n",
      "-------------------------------\n",
      "loss: 0.031962 [   64/60000]\n",
      "loss: 0.037842 [32064/60000]\n",
      "Test Error: \n",
      " Avg loss: 0.036957 \n",
      "\n",
      "Epoch 31\n",
      "-------------------------------\n",
      "loss: 0.032021 [   64/60000]\n",
      "loss: 0.037770 [32064/60000]\n",
      "Test Error: \n",
      " Avg loss: 0.037004 \n",
      "\n",
      "Epoch 32\n",
      "-------------------------------\n",
      "loss: 0.031956 [   64/60000]\n",
      "loss: 0.037690 [32064/60000]\n",
      "Test Error: \n",
      " Avg loss: 0.036974 \n",
      "\n",
      "Epoch 33\n",
      "-------------------------------\n",
      "loss: 0.031913 [   64/60000]\n",
      "loss: 0.037718 [32064/60000]\n",
      "Test Error: \n",
      " Avg loss: 0.036962 \n",
      "\n",
      "Epoch 34\n",
      "-------------------------------\n",
      "loss: 0.031875 [   64/60000]\n",
      "loss: 0.037680 [32064/60000]\n",
      "Test Error: \n",
      " Avg loss: 0.036939 \n",
      "\n",
      "Epoch 35\n",
      "-------------------------------\n",
      "loss: 0.031875 [   64/60000]\n",
      "loss: 0.037651 [32064/60000]\n",
      "Test Error: \n",
      " Avg loss: 0.036910 \n",
      "\n",
      "Epoch 36\n",
      "-------------------------------\n",
      "loss: 0.031777 [   64/60000]\n",
      "loss: 0.037638 [32064/60000]\n",
      "Test Error: \n",
      " Avg loss: 0.036896 \n",
      "\n",
      "Epoch 37\n",
      "-------------------------------\n",
      "loss: 0.031768 [   64/60000]\n",
      "loss: 0.037582 [32064/60000]\n",
      "Test Error: \n",
      " Avg loss: 0.036743 \n",
      "\n",
      "Epoch 38\n",
      "-------------------------------\n",
      "loss: 0.031666 [   64/60000]\n",
      "loss: 0.037505 [32064/60000]\n",
      "Test Error: \n",
      " Avg loss: 0.036851 \n",
      "\n",
      "Epoch 39\n",
      "-------------------------------\n",
      "loss: 0.031694 [   64/60000]\n",
      "loss: 0.037470 [32064/60000]\n",
      "Test Error: \n",
      " Avg loss: 0.036774 \n",
      "\n",
      "Epoch 40\n",
      "-------------------------------\n",
      "loss: 0.031571 [   64/60000]\n",
      "loss: 0.037427 [32064/60000]\n",
      "Test Error: \n",
      " Avg loss: 0.036707 \n",
      "\n",
      "Epoch 41\n",
      "-------------------------------\n",
      "loss: 0.031516 [   64/60000]\n",
      "loss: 0.037285 [32064/60000]\n",
      "Test Error: \n",
      " Avg loss: 0.036832 \n",
      "\n",
      "Epoch 42\n",
      "-------------------------------\n",
      "loss: 0.031630 [   64/60000]\n",
      "loss: 0.037268 [32064/60000]\n",
      "Test Error: \n",
      " Avg loss: 0.036771 \n",
      "\n",
      "Epoch 43\n",
      "-------------------------------\n",
      "loss: 0.031569 [   64/60000]\n",
      "loss: 0.037179 [32064/60000]\n",
      "Test Error: \n",
      " Avg loss: 0.036649 \n",
      "\n",
      "Epoch 44\n",
      "-------------------------------\n",
      "loss: 0.031435 [   64/60000]\n",
      "loss: 0.037268 [32064/60000]\n",
      "Test Error: \n",
      " Avg loss: 0.036716 \n",
      "\n",
      "Epoch 45\n",
      "-------------------------------\n",
      "loss: 0.031483 [   64/60000]\n",
      "loss: 0.037132 [32064/60000]\n",
      "Test Error: \n",
      " Avg loss: 0.036511 \n",
      "\n",
      "Epoch 46\n",
      "-------------------------------\n",
      "loss: 0.031276 [   64/60000]\n",
      "loss: 0.037110 [32064/60000]\n",
      "Test Error: \n",
      " Avg loss: 0.036584 \n",
      "\n",
      "Epoch 47\n",
      "-------------------------------\n",
      "loss: 0.031309 [   64/60000]\n",
      "loss: 0.037139 [32064/60000]\n",
      "Test Error: \n",
      " Avg loss: 0.036499 \n",
      "\n",
      "Epoch 48\n",
      "-------------------------------\n",
      "loss: 0.031185 [   64/60000]\n",
      "loss: 0.037011 [32064/60000]\n",
      "Test Error: \n",
      " Avg loss: 0.036472 \n",
      "\n",
      "Epoch 49\n",
      "-------------------------------\n",
      "loss: 0.031131 [   64/60000]\n",
      "loss: 0.036965 [32064/60000]\n",
      "Test Error: \n",
      " Avg loss: 0.036565 \n",
      "\n",
      "Epoch 50\n",
      "-------------------------------\n",
      "loss: 0.031189 [   64/60000]\n",
      "loss: 0.036941 [32064/60000]\n",
      "Test Error: \n",
      " Avg loss: 0.036486 \n",
      "\n",
      "Epoch 51\n",
      "-------------------------------\n",
      "loss: 0.031198 [   64/60000]\n",
      "loss: 0.036935 [32064/60000]\n",
      "Test Error: \n",
      " Avg loss: 0.036589 \n",
      "\n",
      "Epoch 52\n",
      "-------------------------------\n",
      "loss: 0.031207 [   64/60000]\n",
      "loss: 0.036947 [32064/60000]\n",
      "Test Error: \n",
      " Avg loss: 0.036378 \n",
      "\n",
      "Epoch 53\n",
      "-------------------------------\n",
      "loss: 0.031079 [   64/60000]\n",
      "loss: 0.036916 [32064/60000]\n",
      "Test Error: \n",
      " Avg loss: 0.036514 \n",
      "\n",
      "Done!\n"
     ]
    }
   ],
   "source": [
    "epochs = 53\n",
    "for t in range(epochs):\n",
    "    print(f\"Epoch {t+1}\\n-------------------------------\")\n",
    "    train(train_dataloader, model, loss_fn, optimizer)\n",
    "    test(test_dataloader, model, loss_fn)\n",
    "print(\"Done!\")"
   ]
  },
  {
   "attachments": {},
   "cell_type": "markdown",
   "metadata": {},
   "source": [
    "### 3.4. Visualization\n",
    "It's modified from previous visualization on this notebook."
   ]
  },
  {
   "cell_type": "code",
   "execution_count": 31,
   "metadata": {},
   "outputs": [
    {
     "data": {
      "image/png": "[encoded data removed]",
      "text/plain": [
       "<Figure size 640x480 with 4 Axes>"
      ]
     },
     "metadata": {},
     "output_type": "display_data"
    }
   ],
   "source": [
    "import matplotlib.pyplot as plt\n",
    "\n",
    "dataloader = DataLoader(training_data, batch_size=4, shuffle=True)\n",
    "\n",
    "_, (X, y) = next(enumerate(dataloader))\n",
    "X = X.view(4, 28, 28)\n",
    "\n",
    "#plot input images\n",
    "plt.figure()\n",
    "for i, subplot_index in enumerate([221, 222, 223, 224]):\n",
    "    plt.subplot(subplot_index)\n",
    "    plt.imshow(X[i])\n",
    "    "
   ]
  },
  {
   "cell_type": "code",
   "execution_count": 32,
   "metadata": {},
   "outputs": [
    {
     "data": {
      "image/png": "[encoded data removed]",
      "text/plain": [
       "<Figure size 640x480 with 4 Axes>"
      ]
     },
     "metadata": {},
     "output_type": "display_data"
    }
   ],
   "source": [
    "output = model(X.cuda())\n",
    "gen_imgs = output.cpu().detach().view(4,28,28).numpy()\n",
    "\n",
    "#plot restored images\n",
    "plt.figure()\n",
    "for i, subplot_index in enumerate([221, 222, 223, 224]):\n",
    "    plt.subplot(subplot_index)\n",
    "    plt.imshow(gen_imgs[i])"
   ]
  },
  {
   "attachments": {},
   "cell_type": "markdown",
   "metadata": {},
   "source": [
    "Something is wrong here.. After training 53 epochs, it cannot restore inputs at all."
   ]
  },
  {
   "attachments": {},
   "cell_type": "markdown",
   "metadata": {},
   "source": [
    "# Discussion, Conclusion  \n",
    "- should have used Adam instead of SGD. It was too slow  \n",
    "- Seems like both model works well. Have no idea if lightning is faster or not.  \n",
    "- raw torch model have much more lines than pytorch lightning, even I didn't implemented save&load function.\n",
    "- tensorboard also saves many lines but I don't know how to use tensorboard. (I saw a lightning model shows generation examples for validation on tensorboard page.)"
   ]
  },
  {
   "attachments": {},
   "cell_type": "markdown",
   "metadata": {},
   "source": []
  }
 ],
 "metadata": {
  "kernelspec": {
   "display_name": "rave2_py39",
   "language": "python",
   "name": "python3"
  },
  "language_info": {
   "codemirror_mode": {
    "name": "ipython",
    "version": 3
   },
   "file_extension": ".py",
   "mimetype": "text/x-python",
   "name": "python",
   "nbconvert_exporter": "python",
   "pygments_lexer": "ipython3",
   "version": "3.9.16"
  },
  "orig_nbformat": 4
 },
 "nbformat": 4,
 "nbformat_minor": 2
}
