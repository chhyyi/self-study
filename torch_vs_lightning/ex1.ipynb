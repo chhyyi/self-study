{
 "cells": [
  {
   "attachments": {},
   "cell_type": "markdown",
   "metadata": {},
   "source": [
    "# PyTorch vs Lightning\n",
    "On [official PyTorch Lightning website](https://lightning.ai), there are mainly 2 introductory materials now(June 28, 2023, v2.0.4)  \n",
    "- [colab notebook - hell pytorch lightning](https://colab.research.google.com/drive/1AZ5SM6zX13h4rOKxnIAYrg3N40fJFFQo?usp=sharing#scrollTo=HWB7-7yx-gxT)  \n",
    "- [Document - Lightning in 15 minutes](https://lightning.ai/docs/pytorch/stable/starter/introduction.html)  \n",
    "As I'm not that familiar with both PyTorch and Lightning, I'm going to convert some model between them.  \n",
    "\n",
    "\n",
    "\n",
    "# Exercise 1.\n"
   ]
  },
  {
   "attachments": {},
   "cell_type": "markdown",
   "metadata": {},
   "source": [
    "## 1. Just reproduce outputs.\n",
    "First, let's convert an autoencoder model on materials above(Both materials uses same model as an example). It encodes images from MNIST dataset as a 3-dimensional latent vector.\n",
    "Let's just reproduce results."
   ]
  },
  {
   "cell_type": "code",
   "execution_count": 1,
   "metadata": {},
   "outputs": [
    {
     "name": "stderr",
     "output_type": "stream",
     "text": [
      "GPU available: True (cuda), used: True\n",
      "TPU available: False, using: 0 TPU cores\n",
      "IPU available: False, using: 0 IPUs\n",
      "HPU available: False, using: 0 HPUs\n",
      "LOCAL_RANK: 0 - CUDA_VISIBLE_DEVICES: [0]\n",
      "\n",
      "  | Name    | Type       | Params\n",
      "---------------------------------------\n",
      "0 | encoder | Sequential | 100 K \n",
      "1 | decoder | Sequential | 101 K \n",
      "---------------------------------------\n",
      "202 K     Trainable params\n",
      "0         Non-trainable params\n",
      "202 K     Total params\n",
      "0.810     Total estimated model params size (MB)\n",
      "c:\\Users\\hms_l\\.conda\\envs\\rave2_py39\\lib\\site-packages\\lightning\\pytorch\\trainer\\connectors\\data_connector.py:432: PossibleUserWarning: The dataloader, train_dataloader, does not have many workers which may be a bottleneck. Consider increasing the value of the `num_workers` argument` (try 12 which is the number of cpus on this machine) in the `DataLoader` init to improve performance.\n",
      "  rank_zero_warn(\n"
     ]
    },
    {
     "data": {
      "application/vnd.jupyter.widget-view+json": {
       "model_id": "d9bfb304b865446fa3dc039ee5deb6b4",
       "version_major": 2,
       "version_minor": 0
      },
      "text/plain": [
       "Training: 0it [00:00, ?it/s]"
      ]
     },
     "metadata": {},
     "output_type": "display_data"
    },
    {
     "name": "stderr",
     "output_type": "stream",
     "text": [
      "`Trainer.fit` stopped: `max_steps=5000` reached.\n"
     ]
    }
   ],
   "source": [
    "import os, torch, torch.nn as nn, torch.utils.data as data, torchvision as tv\n",
    "import lightning as L\n",
    "\n",
    "encoder = nn.Sequential(nn.Linear(28 * 28, 128), nn.ReLU(), nn.Linear(128, 3))\n",
    "decoder = nn.Sequential(nn.Linear(3, 128), nn.ReLU(), nn.Linear(128, 28 * 28))\n",
    "\n",
    "class LitAutoEncoder(L.LightningModule):\n",
    "    def __init__(self, encoder, decoder):\n",
    "        super().__init__()\n",
    "        self.encoder, self.decoder = encoder, decoder\n",
    "\n",
    "    def training_step(self, batch, batch_idx):\n",
    "        x, y = batch\n",
    "        x = x.view(x.size(0), -1)\n",
    "        z = self.encoder(x)\n",
    "        x_hat = self.decoder(z)\n",
    "        loss = nn.functional.mse_loss(x_hat, x)\n",
    "        self.log(\"train_loss\", loss)\n",
    "        return loss\n",
    "\n",
    "    def configure_optimizers(self):\n",
    "        return torch.optim.Adam(self.parameters(), lr=1e-3)\n",
    "\n",
    "dataset = tv.datasets.MNIST(\".\", download=True, transform=tv.transforms.ToTensor())\n",
    "\n",
    "trainer = L.Trainer(max_steps=5000)\n",
    "trainer.fit(LitAutoEncoder(encoder, decoder), data.DataLoader(dataset, batch_size=32))"
   ]
  },
  {
   "cell_type": "code",
   "execution_count": 2,
   "metadata": {},
   "outputs": [],
   "source": [
    "%load_ext tensorboard"
   ]
  },
  {
   "cell_type": "code",
   "execution_count": null,
   "metadata": {},
   "outputs": [],
   "source": [
    "%tensorboard --logdir lightning_logs"
   ]
  },
  {
   "cell_type": "code",
   "execution_count": 22,
   "metadata": {},
   "outputs": [
    {
     "name": "stdout",
     "output_type": "stream",
     "text": [
      "⚡⚡⚡⚡⚡⚡⚡⚡⚡⚡⚡⚡⚡⚡⚡⚡⚡⚡⚡⚡ \n",
      "Predictions (4 image embeddings):\n",
      " tensor([[ 0.2866, -0.5402,  0.0124],\n",
      "        [ 0.5535, -0.6263,  0.2129],\n",
      "        [ 0.7273, -0.9737,  0.1227],\n",
      "        [ 0.3660, -0.6094,  0.0933]], device='cuda:0',\n",
      "       grad_fn=<AddmmBackward0>) \n",
      " ⚡⚡⚡⚡⚡⚡⚡⚡⚡⚡⚡⚡⚡⚡⚡⚡⚡⚡⚡⚡\n"
     ]
    }
   ],
   "source": [
    "# load checkpoint\n",
    "checkpoint = \"./lightning_logs/version_1/checkpoints/epoch=53-step=50000.ckpt\"\n",
    "autoencoder = LitAutoEncoder.load_from_checkpoint(checkpoint, encoder=encoder, decoder=decoder)\n",
    "\n",
    "# choose your trained nn.Module\n",
    "encoder = autoencoder.encoder\n",
    "encoder.eval()\n",
    "\n",
    "# embed 4 fake images!\n",
    "fake_image_batch = torch.Tensor(4, 28 * 28).cuda() # Original code without .cuda() raised an error - cuz there are two devices.\n",
    "embeddings = encoder(fake_image_batch)\n",
    "print(\"⚡\" * 20, \"\\nPredictions (4 image embeddings):\\n\", embeddings, \"\\n\", \"⚡\" * 20)"
   ]
  },
  {
   "attachments": {},
   "cell_type": "markdown",
   "metadata": {},
   "source": [
    "There were some problems so I had to add cuda() method on\n",
    "```python\n",
    "fake_image_batch = torch.Tensor(4, 28 * 28).cuda()\n",
    "```  \n",
    "\n",
    "## 2. Visualization\n",
    "This autoencoder can work as an image generator. Let's check out..."
   ]
  },
  {
   "cell_type": "code",
   "execution_count": 23,
   "metadata": {},
   "outputs": [
    {
     "data": {
      "image/png": "[encoded data removed]",
      "text/plain": [
       "<Figure size 640x480 with 4 Axes>"
      ]
     },
     "metadata": {},
     "output_type": "display_data"
    }
   ],
   "source": [
    "# regenerate fake images!\n",
    "fake_image_batch = (torch.rand(4, 28*28)).cuda() # Original code without .cuda() raised an error - cuz there are two devices.\n",
    "embeddings = encoder(fake_image_batch)\n",
    "\n",
    "#import pyplot to plot\n",
    "import matplotlib.pyplot as plt\n",
    "\n",
    "# initialize decoder\n",
    "decoder = autoencoder.decoder\n",
    "decoder.eval()\n",
    "\n",
    "#generate images, plot\n",
    "gen_imgs = decoder(embeddings).cpu().detach().view(4,28,28).numpy()\n",
    "plt.figure()\n",
    "for i, subplot_index in enumerate([221, 222, 223, 224]):\n",
    "    plt.subplot(subplot_index)\n",
    "    plt.imshow(gen_imgs[i])"
   ]
  },
  {
   "attachments": {},
   "cell_type": "markdown",
   "metadata": {},
   "source": [
    "Let's plot comparison between input image and restored image. (an autoencoder model usually exhibits.)"
   ]
  },
  {
   "cell_type": "code",
   "execution_count": 28,
   "metadata": {},
   "outputs": [
    {
     "name": "stdout",
     "output_type": "stream",
     "text": [
      "type(X):<class 'torch.Tensor'>, type(y):<class 'torch.Tensor'>\n",
      "size of X:torch.Size([4, 1, 28, 28]), y:torch.Size([4])\n",
      "tensor([5, 9, 1, 4])\n"
     ]
    },
    {
     "data": {
      "image/png": "[encoded data removed]",
      "text/plain": [
       "<Figure size 640x480 with 4 Axes>"
      ]
     },
     "metadata": {},
     "output_type": "display_data"
    }
   ],
   "source": [
    "\n",
    "\n",
    "dataloader = data.DataLoader(dataset, batch_size=4, shuffle=True)\n",
    "'''\n",
    "for X, y in dataloader:\n",
    "    print(f\"type(X):{type(X)}, type(y):{type(y)}\")\n",
    "    print(f\"size of X:{X.size()}, y:{y.size()}\")\n",
    "    print(y)\n",
    "    X = X.view(4, 28, 28)\n",
    "    break\n",
    "'''\n",
    "_, (X, y) = next(enumerate(dataloader)) # Dataloader seems iterable but next(Dataloader) does not work! ref: https://stackoverflow.com/questions/63487775\n",
    "print(f\"type(X):{type(X)}, type(y):{type(y)}\")\n",
    "print(f\"size of X:{X.size()}, y:{y.size()}\")\n",
    "print(y)\n",
    "X = X.view(4, 28, 28)\n",
    "\n",
    "\n",
    "    #plot input images\n",
    "plt.figure()\n",
    "for i, subplot_index in enumerate([221, 222, 223, 224]):\n",
    "    plt.subplot(subplot_index)\n",
    "    plt.imshow(X[i])\n",
    "    "
   ]
  },
  {
   "cell_type": "code",
   "execution_count": 29,
   "metadata": {},
   "outputs": [
    {
     "data": {
      "image/png": "[encoded data removed]",
      "text/plain": [
       "<Figure size 640x480 with 4 Axes>"
      ]
     },
     "metadata": {},
     "output_type": "display_data"
    }
   ],
   "source": [
    "embeddings = encoder(X.view(4, 28*28).cuda())\n",
    "gen_imgs = decoder(embeddings).cpu().detach().view(4,28,28).numpy()\n",
    "\n",
    "#plot restored images\n",
    "plt.figure()\n",
    "for i, subplot_index in enumerate([221, 222, 223, 224]):\n",
    "    plt.subplot(subplot_index)\n",
    "    plt.imshow(gen_imgs[i])"
   ]
  },
  {
   "attachments": {},
   "cell_type": "markdown",
   "metadata": {},
   "source": [
    "### Discussion/Question\n",
    "1. Batch Size : Batch size was 64 or 32 on dataloader on trainer.fit(). I tried 4, 8 on inference step. Is it okay to change batch size between training and inference stage on raw PyTorch or TensorFlow?\n",
    "2. Subdirectory generated : So many directories & files generated...  'MNIST\\raw' is the downloaded dataset from PyTorch dataset. 'lightning_logs' have three files. checkpoint(.ckpt), 'events.out.tfevents....', 'hparams.yaml'. What's the role of these files?\n",
    "3. Use of tensorboard : I'm using jupyter notebook on VS Code. Unlike google colab, I can't see the tensorboard page on cell output. Instead, it toggles 'launch tensorboard session'. What's happening?"
   ]
  },
  {
   "attachments": {},
   "cell_type": "markdown",
   "metadata": {},
   "source": [
    "## 3. Convert to Raw PyTorch\n",
    "I've reproduced [pytorch quickstart](https://pytorch.org/tutorials/beginner/basics/quickstart_tutorial.html) on [this repository](../torch_quickstart/quickstart.ipynb). Let's Convert the model above to the model only use raw pytorch. It'll will be just some modification of the pytorch quickstart.  \n",
    "Python code below should be independently runnable.\n",
    "\n",
    "## 3.1. Import modules, Load dataset"
   ]
  },
  {
   "cell_type": "code",
   "execution_count": 1,
   "metadata": {},
   "outputs": [],
   "source": [
    "import torch \n",
    "from torch import nn\n",
    "from torch.utils.data import DataLoader\n",
    "from torchvision import datasets\n",
    "from torchvision.transforms import ToTensor"
   ]
  },
  {
   "cell_type": "code",
   "execution_count": 2,
   "metadata": {},
   "outputs": [],
   "source": [
    "training_data = datasets.MNIST(root=\".\",train=True, download=True, transform=ToTensor())\n",
    "test_data = datasets.MNIST(root=\".\",train=False, download=True, transform=ToTensor())"
   ]
  },
  {
   "cell_type": "code",
   "execution_count": 30,
   "metadata": {},
   "outputs": [
    {
     "name": "stdout",
     "output_type": "stream",
     "text": [
      "size of X: torch.Size([64, 1, 28, 28])\n",
      "shape of X: torch.Size([64, 1, 28, 28])\n"
     ]
    }
   ],
   "source": [
    "batch_size = 64\n",
    "\n",
    "train_dataloader = DataLoader(training_data, batch_size = batch_size)\n",
    "test_dataloader = DataLoader(test_data, batch_size = batch_size)\n",
    "\n",
    "for X, y in test_dataloader:\n",
    "    print(f\"size of X: {X.size()}\")\n",
    "    print(f\"shape of X: {X.shape}\")\n",
    "    break"
   ]
  },
  {
   "attachments": {},
   "cell_type": "markdown",
   "metadata": {},
   "source": [
    "On PyTorch Lightning, just a dataset was passed to the trainer. There were no parameter about train-test data split.   \n",
    "Question or Discussion   \n",
    "- Does lightning model use 'test data' on training? default value of train argument is True.  \n",
    "- Difference of Tensor.size() and X.shape?\n",
    "\n",
    "### 3.2.Define Model\n",
    "Encoder and Decoder can be included in the autoencoder but let's declare separatly."
   ]
  },
  {
   "cell_type": "code",
   "execution_count": 27,
   "metadata": {},
   "outputs": [
    {
     "name": "stdout",
     "output_type": "stream",
     "text": [
      "using cuda\n",
      "AutoEncoder(\n",
      "  (encoder): Encoder(\n",
      "    (flatten): Flatten(start_dim=1, end_dim=-1)\n",
      "    (linear_relu_stack): Sequential(\n",
      "      (0): Linear(in_features=784, out_features=128, bias=True)\n",
      "      (1): ReLU()\n",
      "      (2): Linear(in_features=128, out_features=3, bias=True)\n",
      "    )\n",
      "  )\n",
      "  (decoder): Decoder(\n",
      "    (linear_relu_stack): Sequential(\n",
      "      (0): Linear(in_features=3, out_features=128, bias=True)\n",
      "      (1): ReLU()\n",
      "      (2): Linear(in_features=128, out_features=784, bias=True)\n",
      "    )\n",
      "  )\n",
      ")\n"
     ]
    }
   ],
   "source": [
    "#device: I have only cpu and gpu. skip mps or tpu\n",
    "device = (\"cuda\" if torch.cuda.is_available()\n",
    "          else \"cpu\")\n",
    "print(f\"using {device}\")\n",
    "\n",
    "#model\n",
    "\n",
    "class Encoder(nn.Module):\n",
    "    def __init__(self):\n",
    "        super().__init__()\n",
    "        self.flatten = nn.Flatten()\n",
    "        self.linear_relu_stack = nn.Sequential(\n",
    "            nn.Linear(28*28, 128),\n",
    "            nn.ReLU(),\n",
    "            nn.Linear(128, 3)\n",
    "        )\n",
    "    \n",
    "    def forward(self, x):\n",
    "        x = self.flatten(x)\n",
    "        embeddings = self.linear_relu_stack(x)\n",
    "        return embeddings\n",
    "\n",
    "class Decoder(nn.Module):\n",
    "    def __init__(self):\n",
    "        super().__init__()\n",
    "        self.linear_relu_stack = nn.Sequential(\n",
    "            nn.Linear(3, 128),\n",
    "            nn.ReLU(),\n",
    "            nn.Linear(128, 28*28)\n",
    "        )\n",
    "    \n",
    "    def forward(self, embeddings):\n",
    "        output = self.linear_relu_stack(embeddings)\n",
    "        output = output.view(-1, 1, 28, 28) #It cannot be (batch_size, 1, 28, 28) cuz dataloader gives \n",
    "        return output\n",
    "\n",
    "class AutoEncoder(nn.Module):\n",
    "    def __init__(self):\n",
    "        super().__init__()\n",
    "        self.encoder = Encoder()\n",
    "        self.decoder = Decoder()\n",
    "    \n",
    "    def forward(self, x):\n",
    "        embeddings = self.encoder(x)\n",
    "        output = self.decoder(embeddings)\n",
    "        return output\n",
    "    \n",
    "model = AutoEncoder().to(device)\n",
    "print(model)"
   ]
  },
  {
   "attachments": {},
   "cell_type": "markdown",
   "metadata": {},
   "source": [
    "### 3.3. Train"
   ]
  },
  {
   "cell_type": "code",
   "execution_count": 31,
   "metadata": {},
   "outputs": [],
   "source": [
    "loss_fn = nn.MSELoss() #on lightning, just nn.functional.mse_loss() was used. It seems like nn.MSELoss() returns nn.functional.mse_loss\n",
    "optimizer = torch.optim.SGD(model.parameters(), lr = 1e-3)"
   ]
  },
  {
   "cell_type": "code",
   "execution_count": 32,
   "metadata": {},
   "outputs": [],
   "source": [
    "def train(dataloader, model, loss_fn, optimizer):\n",
    "    size = len(dataloader.dataset)\n",
    "    model.train() #what is the role of this method?\n",
    "    for batch, (X, y) in enumerate(dataloader):\n",
    "        X, y = X.to(device), y.to(device)\n",
    "\n",
    "        pred = model(X)\n",
    "        loss = loss_fn(pred, X) #this is autoencoder. y is not used.\n",
    "\n",
    "        loss.backward()\n",
    "        optimizer.step()\n",
    "        optimizer.zero_grad()\n",
    "\n",
    "        if batch % 500 == 0:\n",
    "            loss, current = loss.item(), (batch + 1) * len(X)\n",
    "            print(f\"loss: {loss:>7f} [{current:>5d}/{size:>5d}]\")"
   ]
  },
  {
   "cell_type": "code",
   "execution_count": 33,
   "metadata": {},
   "outputs": [
    {
     "name": "stdout",
     "output_type": "stream",
     "text": [
      "Help on method train in module torch.nn.modules.module:\n",
      "\n",
      "train(mode: bool = True) -> ~T method of __main__.AutoEncoder instance\n",
      "    Sets the module in training mode.\n",
      "    \n",
      "    This has any effect only on certain modules. See documentations of\n",
      "    particular modules for details of their behaviors in training/evaluation\n",
      "    mode, if they are affected, e.g. :class:`Dropout`, :class:`BatchNorm`,\n",
      "    etc.\n",
      "    \n",
      "    Args:\n",
      "        mode (bool): whether to set training mode (``True``) or evaluation\n",
      "                     mode (``False``). Default: ``True``.\n",
      "    \n",
      "    Returns:\n",
      "        Module: self\n",
      "\n"
     ]
    }
   ],
   "source": [
    "help(model.train)"
   ]
  },
  {
   "cell_type": "code",
   "execution_count": 34,
   "metadata": {},
   "outputs": [],
   "source": [
    "def test(dataloader, model, loss_fn):\n",
    "    size = len(dataloader.dataset)\n",
    "    num_batches = len(dataloader)\n",
    "    model.eval()\n",
    "    test_loss = 0\n",
    "    with torch.no_grad():\n",
    "        for X, y in dataloader:\n",
    "            X, y = X.to(device), y.to(device)\n",
    "            pred = model(X)\n",
    "            test_loss += loss_fn(pred, X).item()\n",
    "    test_loss /= num_batches\n",
    "    print(f\"Test Error: \\n Avg loss: {test_loss:>8f} \\n\")"
   ]
  },
  {
   "cell_type": "code",
   "execution_count": 35,
   "metadata": {},
   "outputs": [
    {
     "name": "stdout",
     "output_type": "stream",
     "text": [
      "Epoch 1\n",
      "-------------------------------\n",
      "loss: 0.126894 [   64/60000]\n",
      "loss: 0.135520 [32064/60000]\n",
      "Test Error: \n",
      " Avg loss: 0.129333 \n",
      "\n",
      "Epoch 2\n",
      "-------------------------------\n",
      "loss: 0.124184 [   64/60000]\n",
      "loss: 0.132856 [32064/60000]\n",
      "Test Error: \n",
      " Avg loss: 0.126909 \n",
      "\n",
      "Epoch 3\n",
      "-------------------------------\n",
      "loss: 0.121793 [   64/60000]\n",
      "loss: 0.130467 [32064/60000]\n",
      "Test Error: \n",
      " Avg loss: 0.124715 \n",
      "\n",
      "Epoch 4\n",
      "-------------------------------\n",
      "loss: 0.119624 [   64/60000]\n",
      "loss: 0.128280 [32064/60000]\n",
      "Test Error: \n",
      " Avg loss: 0.122695 \n",
      "\n",
      "Epoch 5\n",
      "-------------------------------\n",
      "loss: 0.117631 [   64/60000]\n",
      "loss: 0.126255 [32064/60000]\n",
      "Test Error: \n",
      " Avg loss: 0.120812 \n",
      "\n",
      "Epoch 6\n",
      "-------------------------------\n",
      "loss: 0.115779 [   64/60000]\n",
      "loss: 0.124358 [32064/60000]\n",
      "Test Error: \n",
      " Avg loss: 0.119043 \n",
      "\n",
      "Epoch 7\n",
      "-------------------------------\n",
      "loss: 0.114038 [   64/60000]\n",
      "loss: 0.122566 [32064/60000]\n",
      "Test Error: \n",
      " Avg loss: 0.117368 \n",
      "\n",
      "Epoch 8\n",
      "-------------------------------\n",
      "loss: 0.112391 [   64/60000]\n",
      "loss: 0.120864 [32064/60000]\n",
      "Test Error: \n",
      " Avg loss: 0.115773 \n",
      "\n",
      "Epoch 9\n",
      "-------------------------------\n",
      "loss: 0.110824 [   64/60000]\n",
      "loss: 0.119238 [32064/60000]\n",
      "Test Error: \n",
      " Avg loss: 0.114249 \n",
      "\n",
      "Epoch 10\n",
      "-------------------------------\n",
      "loss: 0.109329 [   64/60000]\n",
      "loss: 0.117679 [32064/60000]\n",
      "Test Error: \n",
      " Avg loss: 0.112787 \n",
      "\n",
      "Epoch 11\n",
      "-------------------------------\n",
      "loss: 0.107896 [   64/60000]\n",
      "loss: 0.116182 [32064/60000]\n",
      "Test Error: \n",
      " Avg loss: 0.111382 \n",
      "\n",
      "Epoch 12\n",
      "-------------------------------\n",
      "loss: 0.106520 [   64/60000]\n",
      "loss: 0.114739 [32064/60000]\n",
      "Test Error: \n",
      " Avg loss: 0.110028 \n",
      "\n",
      "Epoch 13\n",
      "-------------------------------\n",
      "loss: 0.105195 [   64/60000]\n",
      "loss: 0.113347 [32064/60000]\n",
      "Test Error: \n",
      " Avg loss: 0.108721 \n",
      "\n",
      "Epoch 14\n",
      "-------------------------------\n",
      "loss: 0.103918 [   64/60000]\n",
      "loss: 0.112001 [32064/60000]\n",
      "Test Error: \n",
      " Avg loss: 0.107458 \n",
      "\n",
      "Epoch 15\n",
      "-------------------------------\n",
      "loss: 0.102685 [   64/60000]\n",
      "loss: 0.110700 [32064/60000]\n",
      "Test Error: \n",
      " Avg loss: 0.106237 \n",
      "\n",
      "Epoch 16\n",
      "-------------------------------\n",
      "loss: 0.101493 [   64/60000]\n",
      "loss: 0.109438 [32064/60000]\n",
      "Test Error: \n",
      " Avg loss: 0.105053 \n",
      "\n",
      "Epoch 17\n",
      "-------------------------------\n",
      "loss: 0.100339 [   64/60000]\n",
      "loss: 0.108215 [32064/60000]\n",
      "Test Error: \n",
      " Avg loss: 0.103906 \n",
      "\n",
      "Epoch 18\n",
      "-------------------------------\n",
      "loss: 0.099222 [   64/60000]\n",
      "loss: 0.107026 [32064/60000]\n",
      "Test Error: \n",
      " Avg loss: 0.102793 \n",
      "\n",
      "Epoch 19\n",
      "-------------------------------\n",
      "loss: 0.098137 [   64/60000]\n",
      "loss: 0.105871 [32064/60000]\n",
      "Test Error: \n",
      " Avg loss: 0.101712 \n",
      "\n",
      "Epoch 20\n",
      "-------------------------------\n",
      "loss: 0.097084 [   64/60000]\n",
      "loss: 0.104748 [32064/60000]\n",
      "Test Error: \n",
      " Avg loss: 0.100661 \n",
      "\n",
      "Epoch 21\n",
      "-------------------------------\n",
      "loss: 0.096061 [   64/60000]\n",
      "loss: 0.103655 [32064/60000]\n",
      "Test Error: \n",
      " Avg loss: 0.099640 \n",
      "\n",
      "Epoch 22\n",
      "-------------------------------\n",
      "loss: 0.095068 [   64/60000]\n",
      "loss: 0.102591 [32064/60000]\n",
      "Test Error: \n",
      " Avg loss: 0.098646 \n",
      "\n",
      "Epoch 23\n",
      "-------------------------------\n",
      "loss: 0.094102 [   64/60000]\n",
      "loss: 0.101555 [32064/60000]\n",
      "Test Error: \n",
      " Avg loss: 0.097679 \n",
      "\n",
      "Epoch 24\n",
      "-------------------------------\n",
      "loss: 0.093163 [   64/60000]\n",
      "loss: 0.100545 [32064/60000]\n",
      "Test Error: \n",
      " Avg loss: 0.096737 \n",
      "\n",
      "Epoch 25\n",
      "-------------------------------\n",
      "loss: 0.092249 [   64/60000]\n",
      "loss: 0.099559 [32064/60000]\n",
      "Test Error: \n",
      " Avg loss: 0.095819 \n",
      "\n",
      "Epoch 26\n",
      "-------------------------------\n",
      "loss: 0.091359 [   64/60000]\n",
      "loss: 0.098598 [32064/60000]\n",
      "Test Error: \n",
      " Avg loss: 0.094924 \n",
      "\n",
      "Epoch 27\n",
      "-------------------------------\n",
      "loss: 0.090493 [   64/60000]\n",
      "loss: 0.097660 [32064/60000]\n",
      "Test Error: \n",
      " Avg loss: 0.094052 \n",
      "\n",
      "Epoch 28\n",
      "-------------------------------\n",
      "loss: 0.089649 [   64/60000]\n",
      "loss: 0.096745 [32064/60000]\n",
      "Test Error: \n",
      " Avg loss: 0.093202 \n",
      "\n",
      "Epoch 29\n",
      "-------------------------------\n",
      "loss: 0.088827 [   64/60000]\n",
      "loss: 0.095851 [32064/60000]\n",
      "Test Error: \n",
      " Avg loss: 0.092373 \n",
      "\n",
      "Epoch 30\n",
      "-------------------------------\n",
      "loss: 0.088026 [   64/60000]\n",
      "loss: 0.094979 [32064/60000]\n",
      "Test Error: \n",
      " Avg loss: 0.091563 \n",
      "\n",
      "Epoch 31\n",
      "-------------------------------\n",
      "loss: 0.087245 [   64/60000]\n",
      "loss: 0.094126 [32064/60000]\n",
      "Test Error: \n",
      " Avg loss: 0.090774 \n",
      "\n",
      "Epoch 32\n",
      "-------------------------------\n",
      "loss: 0.086484 [   64/60000]\n",
      "loss: 0.093293 [32064/60000]\n",
      "Test Error: \n",
      " Avg loss: 0.090003 \n",
      "\n",
      "Epoch 33\n",
      "-------------------------------\n",
      "loss: 0.085741 [   64/60000]\n",
      "loss: 0.092479 [32064/60000]\n",
      "Test Error: \n",
      " Avg loss: 0.089251 \n",
      "\n",
      "Epoch 34\n",
      "-------------------------------\n",
      "loss: 0.085017 [   64/60000]\n",
      "loss: 0.091683 [32064/60000]\n",
      "Test Error: \n",
      " Avg loss: 0.088517 \n",
      "\n",
      "Epoch 35\n",
      "-------------------------------\n",
      "loss: 0.084311 [   64/60000]\n",
      "loss: 0.090905 [32064/60000]\n",
      "Test Error: \n",
      " Avg loss: 0.087801 \n",
      "\n",
      "Epoch 36\n",
      "-------------------------------\n",
      "loss: 0.083622 [   64/60000]\n",
      "loss: 0.090145 [32064/60000]\n",
      "Test Error: \n",
      " Avg loss: 0.087102 \n",
      "\n",
      "Epoch 37\n",
      "-------------------------------\n",
      "loss: 0.082950 [   64/60000]\n",
      "loss: 0.089403 [32064/60000]\n",
      "Test Error: \n",
      " Avg loss: 0.086420 \n",
      "\n",
      "Epoch 38\n",
      "-------------------------------\n",
      "loss: 0.082295 [   64/60000]\n",
      "loss: 0.088678 [32064/60000]\n",
      "Test Error: \n",
      " Avg loss: 0.085755 \n",
      "\n",
      "Epoch 39\n",
      "-------------------------------\n",
      "loss: 0.081656 [   64/60000]\n",
      "loss: 0.087970 [32064/60000]\n",
      "Test Error: \n",
      " Avg loss: 0.085106 \n",
      "\n",
      "Epoch 40\n",
      "-------------------------------\n",
      "loss: 0.081033 [   64/60000]\n",
      "loss: 0.087278 [32064/60000]\n",
      "Test Error: \n",
      " Avg loss: 0.084472 \n",
      "\n",
      "Epoch 41\n",
      "-------------------------------\n",
      "loss: 0.080426 [   64/60000]\n",
      "loss: 0.086603 [32064/60000]\n",
      "Test Error: \n",
      " Avg loss: 0.083855 \n",
      "\n",
      "Epoch 42\n",
      "-------------------------------\n",
      "loss: 0.079835 [   64/60000]\n",
      "loss: 0.085944 [32064/60000]\n",
      "Test Error: \n",
      " Avg loss: 0.083253 \n",
      "\n",
      "Epoch 43\n",
      "-------------------------------\n",
      "loss: 0.079258 [   64/60000]\n",
      "loss: 0.085301 [32064/60000]\n",
      "Test Error: \n",
      " Avg loss: 0.082666 \n",
      "\n",
      "Epoch 44\n",
      "-------------------------------\n",
      "loss: 0.078697 [   64/60000]\n",
      "loss: 0.084673 [32064/60000]\n",
      "Test Error: \n",
      " Avg loss: 0.082094 \n",
      "\n",
      "Epoch 45\n",
      "-------------------------------\n",
      "loss: 0.078150 [   64/60000]\n",
      "loss: 0.084060 [32064/60000]\n",
      "Test Error: \n",
      " Avg loss: 0.081537 \n",
      "\n",
      "Epoch 46\n",
      "-------------------------------\n",
      "loss: 0.077618 [   64/60000]\n",
      "loss: 0.083463 [32064/60000]\n",
      "Test Error: \n",
      " Avg loss: 0.080995 \n",
      "\n",
      "Epoch 47\n",
      "-------------------------------\n",
      "loss: 0.077100 [   64/60000]\n",
      "loss: 0.082881 [32064/60000]\n",
      "Test Error: \n",
      " Avg loss: 0.080467 \n",
      "\n",
      "Epoch 48\n",
      "-------------------------------\n",
      "loss: 0.076596 [   64/60000]\n",
      "loss: 0.082314 [32064/60000]\n",
      "Test Error: \n",
      " Avg loss: 0.079954 \n",
      "\n",
      "Epoch 49\n",
      "-------------------------------\n",
      "loss: 0.076105 [   64/60000]\n",
      "loss: 0.081761 [32064/60000]\n",
      "Test Error: \n",
      " Avg loss: 0.079454 \n",
      "\n",
      "Epoch 50\n",
      "-------------------------------\n",
      "loss: 0.075629 [   64/60000]\n",
      "loss: 0.081224 [32064/60000]\n",
      "Test Error: \n",
      " Avg loss: 0.078968 \n",
      "\n",
      "Epoch 51\n",
      "-------------------------------\n",
      "loss: 0.075166 [   64/60000]\n",
      "loss: 0.080700 [32064/60000]\n",
      "Test Error: \n",
      " Avg loss: 0.078496 \n",
      "\n",
      "Epoch 52\n",
      "-------------------------------\n",
      "loss: 0.074716 [   64/60000]\n",
      "loss: 0.080190 [32064/60000]\n",
      "Test Error: \n",
      " Avg loss: 0.078038 \n",
      "\n",
      "Epoch 53\n",
      "-------------------------------\n",
      "loss: 0.074280 [   64/60000]\n",
      "loss: 0.079695 [32064/60000]\n",
      "Test Error: \n",
      " Avg loss: 0.077592 \n",
      "\n",
      "Done!\n"
     ]
    }
   ],
   "source": [
    "epochs = 53\n",
    "for t in range(epochs):\n",
    "    print(f\"Epoch {t+1}\\n-------------------------------\")\n",
    "    train(train_dataloader, model, loss_fn, optimizer)\n",
    "    test(test_dataloader, model, loss_fn)\n",
    "print(\"Done!\")"
   ]
  },
  {
   "attachments": {},
   "cell_type": "markdown",
   "metadata": {},
   "source": [
    "### 3.4. Visualization\n",
    "It's modified from previous visualization on this notebook."
   ]
  },
  {
   "cell_type": "code",
   "execution_count": 38,
   "metadata": {},
   "outputs": [
    {
     "data": {
      "image/png": "[encoded data removed]",
      "text/plain": [
       "<Figure size 640x480 with 4 Axes>"
      ]
     },
     "metadata": {},
     "output_type": "display_data"
    }
   ],
   "source": [
    "import matplotlib.pyplot as plt\n",
    "\n",
    "dataloader = DataLoader(training_data, batch_size=4, shuffle=True)\n",
    "\n",
    "_, (X, y) = next(enumerate(dataloader))\n",
    "X = X.view(4, 28, 28)\n",
    "\n",
    "#plot input images\n",
    "plt.figure()\n",
    "for i, subplot_index in enumerate([221, 222, 223, 224]):\n",
    "    plt.subplot(subplot_index)\n",
    "    plt.imshow(X[i])\n",
    "    "
   ]
  },
  {
   "cell_type": "code",
   "execution_count": 39,
   "metadata": {},
   "outputs": [
    {
     "data": {
      "image/png": "[encoded data removed]",
      "text/plain": [
       "<Figure size 640x480 with 4 Axes>"
      ]
     },
     "metadata": {},
     "output_type": "display_data"
    }
   ],
   "source": [
    "output = model(X.cuda())\n",
    "gen_imgs = output.cpu().detach().view(4,28,28).numpy()\n",
    "\n",
    "#plot restored images\n",
    "plt.figure()\n",
    "for i, subplot_index in enumerate([221, 222, 223, 224]):\n",
    "    plt.subplot(subplot_index)\n",
    "    plt.imshow(gen_imgs[i])"
   ]
  },
  {
   "attachments": {},
   "cell_type": "markdown",
   "metadata": {},
   "source": [
    "Something is wrong here.. After training 53 epochs, it cannot restore inputs at all."
   ]
  },
  {
   "attachments": {},
   "cell_type": "markdown",
   "metadata": {},
   "source": []
  }
 ],
 "metadata": {
  "kernelspec": {
   "display_name": "rave2_py39",
   "language": "python",
   "name": "python3"
  },
  "language_info": {
   "codemirror_mode": {
    "name": "ipython",
    "version": 3
   },
   "file_extension": ".py",
   "mimetype": "text/x-python",
   "name": "python",
   "nbconvert_exporter": "python",
   "pygments_lexer": "ipython3",
   "version": "3.9.16"
  },
  "orig_nbformat": 4
 },
 "nbformat": 4,
 "nbformat_minor": 2
}
