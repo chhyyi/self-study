{
 "cells": [
  {
   "attachments": {},
   "cell_type": "markdown",
   "metadata": {},
   "source": [
    "# Decorator\n",
    "This is solution of 42.7, 42.8 of [python online lecture on dojang.io(korean)](https://dojang.io/course/view.php?id=7)\n",
    "\n",
    "## 42.7"
   ]
  },
  {
   "cell_type": "code",
   "execution_count": 10,
   "metadata": {},
   "outputs": [],
   "source": [
    "def type_check(type1, type2):\n",
    "    def decorator(f):\n",
    "        def wrapper(a, b):\n",
    "            if type(a)!=type1 or type(b)!=type2:\n",
    "                raise RuntimeError('wrong type')\n",
    "            return f(a,b)\n",
    "        return wrapper\n",
    "    return decorator\n",
    "\n",
    "@type_check(int, int)\n",
    "def add(a,b):\n",
    "    return a+b"
   ]
  },
  {
   "cell_type": "code",
   "execution_count": 11,
   "metadata": {},
   "outputs": [
    {
     "name": "stdout",
     "output_type": "stream",
     "text": [
      "30\n"
     ]
    }
   ],
   "source": [
    "print(add(10,20))"
   ]
  },
  {
   "cell_type": "code",
   "execution_count": 12,
   "metadata": {},
   "outputs": [
    {
     "ename": "RuntimeError",
     "evalue": "wrong type",
     "output_type": "error",
     "traceback": [
      "\u001b[1;31m---------------------------------------------------------------------------\u001b[0m",
      "\u001b[1;31mRuntimeError\u001b[0m                              Traceback (most recent call last)",
      "Cell \u001b[1;32mIn[12], line 1\u001b[0m\n\u001b[1;32m----> 1\u001b[0m \u001b[39mprint\u001b[39m(add(\u001b[39m'\u001b[39;49m\u001b[39mhello\u001b[39;49m\u001b[39m'\u001b[39;49m, \u001b[39m'\u001b[39;49m\u001b[39mworld\u001b[39;49m\u001b[39m'\u001b[39;49m))\n",
      "Cell \u001b[1;32mIn[10], line 5\u001b[0m, in \u001b[0;36mtype_check.<locals>.decorator.<locals>.wrapper\u001b[1;34m(a, b)\u001b[0m\n\u001b[0;32m      3\u001b[0m \u001b[39mdef\u001b[39;00m \u001b[39mwrapper\u001b[39m(a, b):\n\u001b[0;32m      4\u001b[0m     \u001b[39mif\u001b[39;00m \u001b[39mtype\u001b[39m(a)\u001b[39m!=\u001b[39mtype1 \u001b[39mor\u001b[39;00m \u001b[39mtype\u001b[39m(b)\u001b[39m!=\u001b[39mtype2:\n\u001b[1;32m----> 5\u001b[0m         \u001b[39mraise\u001b[39;00m \u001b[39mRuntimeError\u001b[39;00m(\u001b[39m'\u001b[39m\u001b[39mwrong type\u001b[39m\u001b[39m'\u001b[39m)\n\u001b[0;32m      6\u001b[0m     \u001b[39mreturn\u001b[39;00m f(a,b)\n",
      "\u001b[1;31mRuntimeError\u001b[0m: wrong type"
     ]
    }
   ],
   "source": [
    "print(add('hello', 'world'))"
   ]
  },
  {
   "cell_type": "code",
   "execution_count": null,
   "metadata": {},
   "outputs": [],
   "source": []
  },
  {
   "attachments": {},
   "cell_type": "markdown",
   "metadata": {},
   "source": [
    "## 42.8"
   ]
  },
  {
   "cell_type": "code",
   "execution_count": 16,
   "metadata": {},
   "outputs": [
    {
     "name": "stdout",
     "output_type": "stream",
     "text": [
      "<p><sapn>Hello, world!</sapn></p>\n"
     ]
    }
   ],
   "source": [
    "def html_tag(tag):\n",
    "    def decorator(func):\n",
    "        def wrapper():\n",
    "            rstring=\"<\"+tag+\">\"+func()+\"</\"+tag+\">\"\n",
    "            return rstring\n",
    "        return wrapper\n",
    "    return decorator\n",
    "\n",
    "a, b = input().split()\n",
    " \n",
    "@html_tag(a)\n",
    "@html_tag(b)\n",
    "def hello():\n",
    "    return 'Hello, world!'\n",
    " \n",
    "print(hello())"
   ]
  }
 ],
 "metadata": {
  "kernelspec": {
   "display_name": "rave2_py39",
   "language": "python",
   "name": "python3"
  },
  "language_info": {
   "codemirror_mode": {
    "name": "ipython",
    "version": 3
   },
   "file_extension": ".py",
   "mimetype": "text/x-python",
   "name": "python",
   "nbconvert_exporter": "python",
   "pygments_lexer": "ipython3",
   "version": "3.9.16"
  },
  "orig_nbformat": 4
 },
 "nbformat": 4,
 "nbformat_minor": 2
}
