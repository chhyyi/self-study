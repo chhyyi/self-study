{
 "cells": [
  {
   "attachments": {},
   "cell_type": "markdown",
   "metadata": {},
   "source": [
    "# PyTorch Quickstart & Review some basics of ML\n",
    "\n",
    "Let's follow [QuickStart](https://pytorch.org/tutorials/beginner/basics/quickstart_tutorial.html) first."
   ]
  },
  {
   "attachments": {},
   "cell_type": "markdown",
   "metadata": {},
   "source": [
    "## Exercise\n",
    "### 1. How 'batch' work with each layers?\n",
    "Let's check out how layers work with batch in pytorch. In this example, shape of a batch is (64, 1, 28, 28) where 64 is batch size. first linear layer takes only $28\\times28$ elements in 'Creating Models' part.\n",
    "```python\n",
    "class NeuralNetwork(nn.Module):\n",
    "    def __init__(self):\n",
    "        self.flatten = nn.Flatten()\n",
    "        self.linear_relu_stack = nn.Sequential(\n",
    "            nn.linear(28*28, 512),\n",
    "            ...\n",
    "        )\n",
    "```\n",
    "#### Flatten() layer\n",
    "Corresponds to batch, output of Flatten method with default arguments is 2-D array (It does not flatten first dimension). Let's check out output of Flatten layer with different 'start_dim' argument..."
   ]
  },
  {
   "cell_type": "code",
   "execution_count": 5,
   "metadata": {},
   "outputs": [
    {
     "name": "stdout",
     "output_type": "stream",
     "text": [
      "Shape of flatten0(X) :torch.Size([64, 784])\n",
      "Shape of flatten1(X) :torch.Size([50176])\n",
      "Shape of flatten2(X) :torch.Size([64, 784])\n"
     ]
    }
   ],
   "source": [
    "class flatten_test(nn.Module):\n",
    "    def __init__(self):\n",
    "        super().__init__()\n",
    "        self.flatten0 = nn.Flatten()\n",
    "        self.flatten1 = nn.Flatten(start_dim=0)\n",
    "        self.flatten2 = nn.Flatten(start_dim=1)\n",
    "        \n",
    "    def flatten_default(self, x):\n",
    "        x = self.flatten0(x)\n",
    "        return x\n",
    "    \n",
    "    def flatten_sd0(self, x):\n",
    "        x = self.flatten1(x)\n",
    "        return x\n",
    "    \n",
    "    def flatten_sd1(self, x):\n",
    "        x = self.flatten2(x)\n",
    "        return x\n",
    "    \n",
    "model_ = flatten_test().to(device)\n",
    "\n",
    "for X, _ in test_dataloader:\n",
    "    print(f\"Shape of flatten0(X) :{model_.flatten_default(X).shape}\")\n",
    "    print(f\"Shape of flatten1(X) :{model_.flatten_sd0(X).shape}\")\n",
    "    print(f\"Shape of flatten2(X) :{model_.flatten_sd1(X).shape}\")\n",
    "    break"
   ]
  },
  {
   "attachments": {},
   "cell_type": "markdown",
   "metadata": {},
   "source": [
    "Or one can find same information on [Source Code](https://pytorch.org/docs/stable/_modules/torch/nn/modules/flatten.html#Flatten) or help(nn.Flatten).  \n",
    "Like this, all the layers might assumes one additional dimension for batch. If one disbands, each output of an input does not depend on batch size.\n",
    "\n",
    "#### Loss and Optimization\n",
    "How about loss and optimization? Loss should return a continuous number that usually exhibits how prediction was far from label. Optimization updates parameters of model. While it updates model parameters, it cannot just iterate over batch size. "
   ]
  },
  {
   "attachments": {},
   "cell_type": "markdown",
   "metadata": {},
   "source": [
    "### 2. How 'loss' and 'optimizer' work with parameters on model?\n",
    "Loss and Optimizer does not take each other as argument. They take arguments from 'model' only.\n",
    "```python\n",
    "loss_fn = nn.CrossEntropyLoss()\n",
    "optimizer = torch.optim.SGD(model.parameters(), lr=1e-3)\n",
    "def train(dataloader, model, loss_fn, optimizer):\n",
    "    ...\n",
    "    for batch, (X, y) in enumerate(dataloader):\n",
    "        pred = model(X)\n",
    "        loss = loss_fn(pred, y)\n",
    "        ...\n",
    "        optimizer.zero_grad()\n",
    "        loss.backward()\n",
    "        optimizer.step()\n",
    "```"
   ]
  },
  {
   "attachments": {},
   "cell_type": "markdown",
   "metadata": {},
   "source": [
    "## Reproduce\n",
    "Just run all the codes on tutorial."
   ]
  },
  {
   "cell_type": "code",
   "execution_count": 1,
   "metadata": {},
   "outputs": [],
   "source": [
    "import torch\n",
    "from torch import nn\n",
    "from torch.utils.data import DataLoader\n",
    "from torchvision import datasets\n",
    "from torchvision.transforms import ToTensor"
   ]
  },
  {
   "cell_type": "code",
   "execution_count": 2,
   "metadata": {},
   "outputs": [],
   "source": [
    "training_data = datasets.FashionMNIST(\n",
    "    root=\"data\",\n",
    "    train=True,\n",
    "    download=True,\n",
    "    transform=ToTensor()\n",
    ")\n",
    "\n",
    "test_data = datasets.FashionMNIST(\n",
    "    root=\"data\",\n",
    "    train=False,\n",
    "    download=True,\n",
    "    transform=ToTensor()\n",
    ")"
   ]
  },
  {
   "cell_type": "code",
   "execution_count": 3,
   "metadata": {},
   "outputs": [
    {
     "name": "stdout",
     "output_type": "stream",
     "text": [
      "Shape of X [N, C, H, W]: torch.Size([64, 1, 28, 28])\n",
      "Shape of y: torch.Size([64]) torch.int64\n"
     ]
    }
   ],
   "source": [
    "batch_size = 64\n",
    "\n",
    "# Create data loaders.\n",
    "train_dataloader = DataLoader(training_data, batch_size=batch_size)\n",
    "test_dataloader = DataLoader(test_data, batch_size=batch_size)\n",
    "\n",
    "for X, y in test_dataloader:\n",
    "    print(f\"Shape of X [N, C, H, W]: {X.shape}\")\n",
    "    print(f\"Shape of y: {y.shape} {y.dtype}\")\n",
    "    break"
   ]
  },
  {
   "cell_type": "code",
   "execution_count": 4,
   "metadata": {},
   "outputs": [
    {
     "name": "stdout",
     "output_type": "stream",
     "text": [
      "Using cuda device\n",
      "NeuralNetwork(\n",
      "  (flatten): Flatten(start_dim=1, end_dim=-1)\n",
      "  (linear_relu_stack): Sequential(\n",
      "    (0): Linear(in_features=784, out_features=512, bias=True)\n",
      "    (1): ReLU()\n",
      "    (2): Linear(in_features=512, out_features=512, bias=True)\n",
      "    (3): ReLU()\n",
      "    (4): Linear(in_features=512, out_features=10, bias=True)\n",
      "  )\n",
      ")\n"
     ]
    }
   ],
   "source": [
    "# Get cpu, gpu or mps device for training.\n",
    "device = (\n",
    "    \"cuda\"\n",
    "    if torch.cuda.is_available()\n",
    "    else \"mps\"\n",
    "    if torch.backends.mps.is_available()\n",
    "    else \"cpu\"\n",
    ")\n",
    "print(f\"Using {device} device\")\n",
    "\n",
    "# Define model\n",
    "class NeuralNetwork(nn.Module):\n",
    "    def __init__(self):\n",
    "        super().__init__()\n",
    "        self.flatten = nn.Flatten()\n",
    "        self.linear_relu_stack = nn.Sequential(\n",
    "            nn.Linear(28*28, 512),\n",
    "            nn.ReLU(),\n",
    "            nn.Linear(512, 512),\n",
    "            nn.ReLU(),\n",
    "            nn.Linear(512, 10)\n",
    "        )\n",
    "\n",
    "    def forward(self, x):\n",
    "        x = self.flatten(x)\n",
    "        logits = self.linear_relu_stack(x)\n",
    "        return logits\n",
    "\n",
    "model = NeuralNetwork().to(device)\n",
    "print(model)"
   ]
  },
  {
   "cell_type": "code",
   "execution_count": 5,
   "metadata": {},
   "outputs": [],
   "source": [
    "loss_fn = nn.CrossEntropyLoss()\n",
    "optimizer = torch.optim.SGD(model.parameters(), lr=1e-3)"
   ]
  },
  {
   "cell_type": "code",
   "execution_count": 6,
   "metadata": {},
   "outputs": [],
   "source": [
    "def train(dataloader, model, loss_fn, optimizer):\n",
    "    size = len(dataloader.dataset)\n",
    "    model.train()\n",
    "    for batch, (X, y) in enumerate(dataloader):\n",
    "        X, y = X.to(device), y.to(device)\n",
    "\n",
    "        # Compute prediction error\n",
    "        pred = model(X)\n",
    "        loss = loss_fn(pred, y)\n",
    "\n",
    "        # Backpropagation\n",
    "        optimizer.zero_grad()\n",
    "        loss.backward()\n",
    "        optimizer.step()\n",
    "\n",
    "        if batch % 100 == 0:\n",
    "            loss, current = loss.item(), (batch + 1) * len(X)\n",
    "            print(f\"loss: {loss:>7f}  [{current:>5d}/{size:>5d}]\")"
   ]
  },
  {
   "cell_type": "code",
   "execution_count": 7,
   "metadata": {},
   "outputs": [],
   "source": [
    "def test(dataloader, model, loss_fn):\n",
    "    size = len(dataloader.dataset)\n",
    "    num_batches = len(dataloader)\n",
    "    model.eval()\n",
    "    test_loss, correct = 0, 0\n",
    "    with torch.no_grad():\n",
    "        for X, y in dataloader:\n",
    "            X, y = X.to(device), y.to(device)\n",
    "            pred = model(X)\n",
    "            test_loss += loss_fn(pred, y).item()\n",
    "            correct += (pred.argmax(1) == y).type(torch.float).sum().item()\n",
    "    test_loss /= num_batches\n",
    "    correct /= size\n",
    "    print(f\"Test Error: \\n Accuracy: {(100*correct):>0.1f}%, Avg loss: {test_loss:>8f} \\n\")"
   ]
  },
  {
   "cell_type": "code",
   "execution_count": 8,
   "metadata": {},
   "outputs": [
    {
     "name": "stdout",
     "output_type": "stream",
     "text": [
      "Epoch 1\n",
      "-------------------------------\n",
      "loss: 2.309076  [   64/60000]\n",
      "loss: 2.293730  [ 6464/60000]\n",
      "loss: 2.274800  [12864/60000]\n",
      "loss: 2.268841  [19264/60000]\n",
      "loss: 2.264539  [25664/60000]\n",
      "loss: 2.231301  [32064/60000]\n",
      "loss: 2.239003  [38464/60000]\n",
      "loss: 2.209710  [44864/60000]\n",
      "loss: 2.203876  [51264/60000]\n",
      "loss: 2.184576  [57664/60000]\n",
      "Test Error: \n",
      " Accuracy: 42.0%, Avg loss: 2.169872 \n",
      "\n",
      "Epoch 2\n",
      "-------------------------------\n",
      "loss: 2.176080  [   64/60000]\n",
      "loss: 2.161420  [ 6464/60000]\n",
      "loss: 2.110287  [12864/60000]\n",
      "loss: 2.127089  [19264/60000]\n",
      "loss: 2.088008  [25664/60000]\n",
      "loss: 2.031430  [32064/60000]\n",
      "loss: 2.058035  [38464/60000]\n",
      "loss: 1.986580  [44864/60000]\n",
      "loss: 1.989994  [51264/60000]\n",
      "loss: 1.934582  [57664/60000]\n",
      "Test Error: \n",
      " Accuracy: 57.2%, Avg loss: 1.919530 \n",
      "\n",
      "Epoch 3\n",
      "-------------------------------\n",
      "loss: 1.944512  [   64/60000]\n",
      "loss: 1.908570  [ 6464/60000]\n",
      "loss: 1.804672  [12864/60000]\n",
      "loss: 1.845298  [19264/60000]\n",
      "loss: 1.744254  [25664/60000]\n",
      "loss: 1.694258  [32064/60000]\n",
      "loss: 1.714053  [38464/60000]\n",
      "loss: 1.618813  [44864/60000]\n",
      "loss: 1.639028  [51264/60000]\n",
      "loss: 1.548770  [57664/60000]\n",
      "Test Error: \n",
      " Accuracy: 63.2%, Avg loss: 1.555728 \n",
      "\n",
      "Epoch 4\n",
      "-------------------------------\n",
      "loss: 1.614782  [   64/60000]\n",
      "loss: 1.573289  [ 6464/60000]\n",
      "loss: 1.438687  [12864/60000]\n",
      "loss: 1.500522  [19264/60000]\n",
      "loss: 1.388440  [25664/60000]\n",
      "loss: 1.380001  [32064/60000]\n",
      "loss: 1.384971  [38464/60000]\n",
      "loss: 1.317426  [44864/60000]\n",
      "loss: 1.346014  [51264/60000]\n",
      "loss: 1.254104  [57664/60000]\n",
      "Test Error: \n",
      " Accuracy: 64.1%, Avg loss: 1.276791 \n",
      "\n",
      "Epoch 5\n",
      "-------------------------------\n",
      "loss: 1.353336  [   64/60000]\n",
      "loss: 1.325355  [ 6464/60000]\n",
      "loss: 1.174326  [12864/60000]\n",
      "loss: 1.264002  [19264/60000]\n",
      "loss: 1.147794  [25664/60000]\n",
      "loss: 1.169652  [32064/60000]\n",
      "loss: 1.178754  [38464/60000]\n",
      "loss: 1.126841  [44864/60000]\n",
      "loss: 1.159608  [51264/60000]\n",
      "loss: 1.083250  [57664/60000]\n",
      "Test Error: \n",
      " Accuracy: 65.0%, Avg loss: 1.101010 \n",
      "\n",
      "Done!\n"
     ]
    }
   ],
   "source": [
    "epochs = 5\n",
    "for t in range(epochs):\n",
    "    print(f\"Epoch {t+1}\\n-------------------------------\")\n",
    "    train(train_dataloader, model, loss_fn, optimizer)\n",
    "    test(test_dataloader, model, loss_fn)\n",
    "print(\"Done!\")"
   ]
  },
  {
   "cell_type": "code",
   "execution_count": 9,
   "metadata": {},
   "outputs": [
    {
     "name": "stdout",
     "output_type": "stream",
     "text": [
      "Saved PyTorch Model State to model.pth\n"
     ]
    }
   ],
   "source": [
    "torch.save(model.state_dict(), \"model.pth\")\n",
    "print(\"Saved PyTorch Model State to model.pth\")"
   ]
  },
  {
   "cell_type": "code",
   "execution_count": 10,
   "metadata": {},
   "outputs": [
    {
     "data": {
      "text/plain": [
       "<All keys matched successfully>"
      ]
     },
     "execution_count": 10,
     "metadata": {},
     "output_type": "execute_result"
    }
   ],
   "source": [
    "model = NeuralNetwork()\n",
    "model.load_state_dict(torch.load(\"model.pth\"))"
   ]
  },
  {
   "cell_type": "code",
   "execution_count": 11,
   "metadata": {},
   "outputs": [
    {
     "name": "stdout",
     "output_type": "stream",
     "text": [
      "Predicted: \"Ankle boot\", Actual: \"Ankle boot\"\n"
     ]
    }
   ],
   "source": [
    "classes = [\n",
    "    \"T-shirt/top\",\n",
    "    \"Trouser\",\n",
    "    \"Pullover\",\n",
    "    \"Dress\",\n",
    "    \"Coat\",\n",
    "    \"Sandal\",\n",
    "    \"Shirt\",\n",
    "    \"Sneaker\",\n",
    "    \"Bag\",\n",
    "    \"Ankle boot\",\n",
    "]\n",
    "\n",
    "model.eval()\n",
    "x, y = test_data[0][0], test_data[0][1]\n",
    "with torch.no_grad():\n",
    "    pred = model(x)\n",
    "    predicted, actual = classes[pred[0].argmax(0)], classes[y]\n",
    "    print(f'Predicted: \"{predicted}\", Actual: \"{actual}\"')"
   ]
  },
  {
   "cell_type": "code",
   "execution_count": 13,
   "metadata": {},
   "outputs": [
    {
     "data": {
      "image/png": "[encoded data removed]",
      "text/plain": [
       "<Figure size 640x480 with 1 Axes>"
      ]
     },
     "metadata": {},
     "output_type": "display_data"
    }
   ],
   "source": [
    "import matplotlib.pyplot as plt\n",
    "input = test_data[0][0][0]\n",
    "#plt.imshow(input.to('cpu').numpy())\n",
    "plt.imshow(input.numpy())\n",
    "plt.show()"
   ]
  },
  {
   "cell_type": "code",
   "execution_count": 14,
   "metadata": {},
   "outputs": [
    {
     "name": "stdout",
     "output_type": "stream",
     "text": [
      "torch.Size([28, 28])\n"
     ]
    }
   ],
   "source": [
    "print(test_data[0][0][0].shape)"
   ]
  },
  {
   "attachments": {},
   "cell_type": "markdown",
   "metadata": {},
   "source": []
  }
 ],
 "metadata": {
  "kernelspec": {
   "display_name": "Python 3 (ipykernel)",
   "language": "python",
   "name": "python3"
  },
  "language_info": {
   "codemirror_mode": {
    "name": "ipython",
    "version": 3
   },
   "file_extension": ".py",
   "mimetype": "text/x-python",
   "name": "python",
   "nbconvert_exporter": "python",
   "pygments_lexer": "ipython3",
   "version": "3.9.16"
  }
 },
 "nbformat": 4,
 "nbformat_minor": 2
}
